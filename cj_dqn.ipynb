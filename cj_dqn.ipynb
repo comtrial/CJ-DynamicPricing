{
 "cells": [
  {
   "cell_type": "code",
   "execution_count": 10,
   "metadata": {},
   "outputs": [],
   "source": [
    "import math \n",
    "import numpy as np\n",
    "import matplotlib.pyplot as plt\n",
    "import seaborn as sns\n",
    "plt.style.use('seaborn-white')\n",
    "import pandas as pd\n",
    "from matplotlib import animation, rc\n",
    "plt.rcParams.update({'pdf.fonttype': 'truetype'})\n",
    "import math\n",
    "# %matplotlib inline\n",
    "# from qbstyles import mpl_style\n",
    "# mpl_style(dark=False)\n",
    "\n",
    "from IPython.core.interactiveshell import InteractiveShell\n",
    "InteractiveShell.ast_node_interactivity = \"all\""
   ]
  },
  {
   "cell_type": "code",
   "execution_count": 12,
   "metadata": {},
   "outputs": [],
   "source": [
    "## Environment simulator\n",
    "def plus(x):\n",
    "    return 0 if x < 0 else x\n",
    "def minus(x):\n",
    "    return 0 if x > 0 else -x\n",
    "def shock(x): #웹페이지에서 봤던 충격함수.(충격함수는 가격 변화에 따른 수요영향력)\n",
    "    return np.sqrt(x) \n",
    "# Demand at time step t for current price p_t and previous price p_t_1\n",
    "def q_t(p_t, p_t_1, q_0, k, a, b):\n",
    "    demand_change_percent.append(plus(q_0 - k*p_t - a*shock(plus(p_t - p_t_1)) + b*shock(minus(p_t - p_t_1))) )\n",
    "    return plus(q_0 - k*p_t - a*shock(plus(p_t - p_t_1)) + b*shock(minus(p_t - p_t_1))) #웹페이지에서 봤던 수요함수임(d(t,j))\n",
    "# Profit at time step t\n",
    "def profit_t(p_t, p_t_1, q_0, k, a, b, unit_cost):\n",
    "    return q_t(p_t, p_t_1, q_0, k, a, b)*(p_t - unit_cost) #q_t(,,,) 이거는 demand임. #(p_t - unit_cost)는 순이익임(가격-유닛당 비용) 즉, 리턴값(profit) = 수요 * 순이익\n",
    "# Total profit for price vector p over len(p) time steps\n",
    "def profit_total(p, unit_cost, q_0, k, a, b):\n",
    "    return profit_t(p[0], p[0], q_0, k, 0, 0, unit_cost) + sum(map(lambda t: profit_t(p[t], p[t-1], q_0, k, a, b, unit_cost), range(len(p))))\n",
    "\n",
    "## fuction order ##############################\n",
    "# 1. profit_t_response(p_t, p_t_1)\n",
    "# 2. profit_t(p_t, p_t_1, q_0, k, a_q, b_q, unit_cost)\n",
    "# 3. q_t()\n",
    "\n",
    "\n",
    "\n",
    "## Custom Part 최승원 ###########################\n",
    "# 1. demand의 변화량을 비율로 환산\n",
    "# 2. 예측값 (q_list) 에 위에서 구한 변화량의 대입 \n",
    "q_list = [60, 40, 50, 20, 20, 70, 60]\n",
    "demand_change_percent = [] # dimension: price_grid[i] * price_change_grid[j]\n",
    "\n",
    "## Custom Part 최승원 ###########################\n",
    "\n",
    "\n",
    "## Environment parameters\n",
    "T = 7\n",
    "price_max = 4500\n",
    "price_step = 200\n",
    "q_0 = 4000 \n",
    "k = 0.8\n",
    "unit_cost = 100\n",
    "a_q = 1\n",
    "b_q = 10\n",
    "\n",
    "## Partial bindings for readability\n",
    "def profit_t_response(p_t, p_t_1):\n",
    "    return profit_t(p_t, p_t_1, q_0, k, a_q, b_q, unit_cost) #택배 도메인에 맞춰서 들어가야 하는 상수.\n",
    "\n",
    "def profit_response(p):\n",
    "    return profit_total(p, unit_cost, q_0, k, a_q, b_q)\n",
    "\n",
    "## Visualize price-demand functions\n",
    "price_grid = np.arange(2000, price_max, price_step) ## price_step: 최소가격, 뒤 price_step: 가격 간격\n",
    "price_change_grid = np.arange(0.5, 2.0, 0.1) ## [0.5, 0.6, 0.7 ,,, 1.9]\n",
    "profit_map = np.zeros( (len(price_grid), len(price_change_grid)) ) #행 : price_gird 개수, 열 : price_change_grid 개수\n",
    "\n",
    "for i in range(len(price_grid)):\n",
    "    for j in range(len(price_change_grid)):\n",
    "        profit_map[i,j] = profit_t_response(price_grid[i], price_grid[i]*price_change_grid[j]) #(t시간에 가격, 가격변화량)\n",
    "## 즉, 위의 반복문으로 profti_map 매트릭스에는 행에 가격, 열에 변화량을 축으로 밸류값으로는 수요 * 순이익이 들어감\n"
   ]
  },
  {
   "cell_type": "code",
   "execution_count": 13,
   "metadata": {},
   "outputs": [
    {
     "data": {
      "text/plain": [
       "array([0.5, 0.6, 0.7, 0.8, 0.9, 1. , 1.1, 1.2, 1.3, 1.4, 1.5, 1.6, 1.7,\n",
       "       1.8, 1.9])"
      ]
     },
     "execution_count": 13,
     "metadata": {},
     "output_type": "execute_result"
    },
    {
     "data": {
      "text/plain": [
       "2824.2640687119283"
      ]
     },
     "execution_count": 13,
     "metadata": {},
     "output_type": "execute_result"
    },
    {
     "data": {
      "text/plain": [
       "[2368.3772233983163, 2371.715728752538, 2375.505102572168]"
      ]
     },
     "execution_count": 13,
     "metadata": {},
     "output_type": "execute_result"
    },
    {
     "name": "stdout",
     "output_type": "stream",
     "text": [
      "[[2000, 1000], [2000, 1200], [2000, 1400], [2000, 1599], [2000, 1799], [2000, 1999], [2000, 2199], [2000, 2399], [2000, 2599], [2000, 2800], [2000, 2999], [2000, 3199], [2000, 3399], [2000, 3599], [2000, 3799]]\n",
      "[[2200, 1100], [2200, 1320], [2200, 1540], [2200, 1759], [2200, 1979], [2200, 2199], [2200, 2419], [2200, 2639], [2200, 2859], [2200, 3080], [2200, 3299], [2200, 3519], [2200, 3739], [2200, 3959], [2200, 4179]]\n",
      "[[2400, 1200], [2400, 1440], [2400, 1680], [2400, 1919], [2400, 2160], [2400, 2399], [2400, 2639], [2400, 2879], [2400, 3119], [2400, 3360], [2400, 3599], [2400, 3839], [2400, 4079], [2400, 4320], [2400, 4559]]\n",
      "[[2600, 1300], [2600, 1560], [2600, 1819], [2600, 2080], [2600, 2339], [2600, 2599], [2600, 2859], [2600, 3119], [2600, 3379], [2600, 3639], [2600, 3899], [2600, 4159], [2600, 4419], [2600, 4679], [2600, 4939]]\n",
      "[[2800, 1400], [2800, 1680], [2800, 1959], [2800, 2240], [2800, 2519], [2800, 2799], [2800, 3079], [2800, 3359], [2800, 3639], [2800, 3919], [2800, 4199], [2800, 4479], [2800, 4759], [2800, 5039], [2800, 5319]]\n",
      "[[3000, 1500], [3000, 1800], [3000, 2100], [3000, 2400], [3000, 2699], [3000, 2999], [3000, 3299], [3000, 3599], [3000, 3899], [3000, 4200], [3000, 4499], [3000, 4799], [3000, 5099], [3000, 5399], [3000, 5699]]\n",
      "[[3200, 1600], [3200, 1920], [3200, 2240], [3200, 2560], [3200, 2879], [3200, 3199], [3200, 3519], [3200, 3839], [3200, 4159], [3200, 4480], [3200, 4799], [3200, 5119], [3200, 5439], [3200, 5759], [3200, 6079]]\n",
      "[[3400, 1700], [3400, 2040], [3400, 2380], [3400, 2720], [3400, 3059], [3400, 3399], [3400, 3739], [3400, 4079], [3400, 4419], [3400, 4760], [3400, 5099], [3400, 5439], [3400, 5779], [3400, 6119], [3400, 6459]]\n",
      "[[3600, 1800], [3600, 2160], [3600, 2520], [3600, 2879], [3600, 3239], [3600, 3599], [3600, 3959], [3600, 4319], [3600, 4679], [3600, 5040], [3600, 5399], [3600, 5759], [3600, 6119], [3600, 6479], [3600, 6839]]\n",
      "[[3800, 1900], [3800, 2280], [3800, 2660], [3800, 3039], [3800, 3419], [3800, 3799], [3800, 4179], [3800, 4559], [3800, 4939], [3800, 5320], [3800, 5699], [3800, 6079], [3800, 6459], [3800, 6839], [3800, 7219]]\n",
      "[[4000, 2000], [4000, 2400], [4000, 2800], [4000, 3199], [4000, 3599], [4000, 3999], [4000, 4399], [4000, 4799], [4000, 5199], [4000, 5600], [4000, 5999], [4000, 6399], [4000, 6799], [4000, 7199], [4000, 7599]]\n",
      "[[4200, 2100], [4200, 2520], [4200, 2940], [4200, 3359], [4200, 3779], [4200, 4199], [4200, 4619], [4200, 5039], [4200, 5459], [4200, 5880], [4200, 6299], [4200, 6719], [4200, 7139], [4200, 7559], [4200, 7979]]\n",
      "[[4400, 2200], [4400, 2640], [4400, 3080], [4400, 3519], [4400, 3959], [4400, 4399], [4400, 4839], [4400, 5279], [4400, 5719], [4400, 6160], [4400, 6599], [4400, 7039], [4400, 7479], [4400, 7919], [4400, 8359]]\n"
     ]
    }
   ],
   "source": [
    "\n",
    "price_change_grid\n",
    "# np.array(demand_change_percent).reshape(-1, 19)\n",
    "np.array(demand_change_percent).max()\n",
    "grid = []\n",
    "\n",
    "for i in range(len(price_grid)):\n",
    "    row = []\n",
    "    for j in range(len(price_change_grid)):\n",
    "        row.append([price_grid[i], int(price_grid[i]*price_change_grid[j])])\n",
    "    grid.append(row)\n",
    "\n",
    "demand_change_percent[:3]\n",
    "\n",
    "for i in grid:\n",
    "    print(i)"
   ]
  },
  {
   "cell_type": "code",
   "execution_count": 14,
   "metadata": {},
   "outputs": [
    {
     "data": {
      "text/plain": [
       "<Figure size 1152x360 with 0 Axes>"
      ]
     },
     "execution_count": 14,
     "metadata": {},
     "output_type": "execute_result"
    },
    {
     "data": {
      "text/plain": [
       "[<matplotlib.lines.Line2D at 0x7fc6d4ef1c70>]"
      ]
     },
     "execution_count": 14,
     "metadata": {},
     "output_type": "execute_result"
    },
    {
     "data": {
      "text/plain": [
       "[<matplotlib.lines.Line2D at 0x7fc6d4f00130>]"
      ]
     },
     "execution_count": 14,
     "metadata": {},
     "output_type": "execute_result"
    },
    {
     "data": {
      "text/plain": [
       "[<matplotlib.lines.Line2D at 0x7fc6d4f00400>]"
      ]
     },
     "execution_count": 14,
     "metadata": {},
     "output_type": "execute_result"
    },
    {
     "data": {
      "text/plain": [
       "[<matplotlib.lines.Line2D at 0x7fc6d4f00760>]"
      ]
     },
     "execution_count": 14,
     "metadata": {},
     "output_type": "execute_result"
    },
    {
     "data": {
      "text/plain": [
       "[<matplotlib.lines.Line2D at 0x7fc6d4f00ca0>]"
      ]
     },
     "execution_count": 14,
     "metadata": {},
     "output_type": "execute_result"
    },
    {
     "data": {
      "text/plain": [
       "[<matplotlib.lines.Line2D at 0x7fc6d4f00e80>]"
      ]
     },
     "execution_count": 14,
     "metadata": {},
     "output_type": "execute_result"
    },
    {
     "data": {
      "text/plain": [
       "[<matplotlib.lines.Line2D at 0x7fc6d4f0d250>]"
      ]
     },
     "execution_count": 14,
     "metadata": {},
     "output_type": "execute_result"
    },
    {
     "data": {
      "text/plain": [
       "[<matplotlib.lines.Line2D at 0x7fc6d4f0d5e0>]"
      ]
     },
     "execution_count": 14,
     "metadata": {},
     "output_type": "execute_result"
    },
    {
     "data": {
      "text/plain": [
       "[<matplotlib.lines.Line2D at 0x7fc6d4f0d970>]"
      ]
     },
     "execution_count": 14,
     "metadata": {},
     "output_type": "execute_result"
    },
    {
     "data": {
      "text/plain": [
       "[<matplotlib.lines.Line2D at 0x7fc6d4f0de20>]"
      ]
     },
     "execution_count": 14,
     "metadata": {},
     "output_type": "execute_result"
    },
    {
     "data": {
      "text/plain": [
       "[<matplotlib.lines.Line2D at 0x7fc6d4f121f0>]"
      ]
     },
     "execution_count": 14,
     "metadata": {},
     "output_type": "execute_result"
    },
    {
     "data": {
      "text/plain": [
       "[<matplotlib.lines.Line2D at 0x7fc6d4f12490>]"
      ]
     },
     "execution_count": 14,
     "metadata": {},
     "output_type": "execute_result"
    },
    {
     "data": {
      "text/plain": [
       "[<matplotlib.lines.Line2D at 0x7fc6d4f12820>]"
      ]
     },
     "execution_count": 14,
     "metadata": {},
     "output_type": "execute_result"
    },
    {
     "data": {
      "text/plain": [
       "[<matplotlib.lines.Line2D at 0x7fc6d4f12bb0>]"
      ]
     },
     "execution_count": 14,
     "metadata": {},
     "output_type": "execute_result"
    },
    {
     "data": {
      "text/plain": [
       "[<matplotlib.lines.Line2D at 0x7fc6d4f20070>]"
      ]
     },
     "execution_count": 14,
     "metadata": {},
     "output_type": "execute_result"
    },
    {
     "data": {
      "text/plain": [
       "Text(0.5, 0, 'fee of one box')"
      ]
     },
     "execution_count": 14,
     "metadata": {},
     "output_type": "execute_result"
    },
    {
     "data": {
      "text/plain": [
       "Text(0, 0.5, 'Profit')"
      ]
     },
     "execution_count": 14,
     "metadata": {},
     "output_type": "execute_result"
    },
    {
     "data": {
      "text/plain": [
       "<matplotlib.legend.Legend at 0x7fc6d4f20250>"
      ]
     },
     "execution_count": 14,
     "metadata": {},
     "output_type": "execute_result"
    },
    {
     "data": {
      "image/png": "[encoded data removed]",
      "text/plain": [
       "<Figure size 1152x360 with 1 Axes>"
      ]
     },
     "metadata": {},
     "output_type": "display_data"
    }
   ],
   "source": [
    "\n",
    "plt.figure(figsize=(16, 5))\n",
    "for i in range(len(price_change_grid)):\n",
    "    if math.isclose(price_change_grid[i], 1.0):\n",
    "        color = 'black'\n",
    "    else:\n",
    "        p_norm = (price_change_grid[i]-0.5)/1.5\n",
    "        color = (p_norm, 0.4, 1 - p_norm)\n",
    "    plt.plot(price_grid, profit_map[:, i], c=color)\n",
    "    \n",
    "plt.xlabel(\"fee of one box\")\n",
    "plt.ylabel(\"Profit\")\n",
    "plt.legend(np.int_(np.round((1-price_change_grid)*100)), loc='lower right', title=\"Price change (%)\", fancybox=False, framealpha=0.6) # 1-price_change_grid)*100) 여기서 price change gird가 1.9이면 -90이 되는 것.\n",
    "plt.grid(True)"
   ]
  },
  {
   "cell_type": "code",
   "execution_count": 15,
   "metadata": {},
   "outputs": [
    {
     "name": "stdout",
     "output_type": "stream",
     "text": [
      "Optimal price is 2600, achieved profit is 38400000.0\n"
     ]
    }
   ],
   "source": [
    "# Find optimal constant price\n",
    "\n",
    "profits = np.array([ profit_response(np.repeat(p, T)) for p in price_grid ])\n",
    "p_idx = np.argmax(profits)\n",
    "price_opt_const = price_grid[p_idx]\n",
    "\n",
    "print(f'Optimal price is {price_opt_const}, achieved profit is {profits[p_idx]}')"
   ]
  },
  {
   "cell_type": "code",
   "execution_count": 11,
   "metadata": {},
   "outputs": [
    {
     "data": {
      "text/plain": [
       "36480000.0"
      ]
     },
     "execution_count": 11,
     "metadata": {},
     "output_type": "execute_result"
    },
    {
     "data": {
      "text/plain": [
       "37632000.0"
      ]
     },
     "execution_count": 11,
     "metadata": {},
     "output_type": "execute_result"
    },
    {
     "data": {
      "text/plain": [
       "38272000.0"
      ]
     },
     "execution_count": 11,
     "metadata": {},
     "output_type": "execute_result"
    },
    {
     "data": {
      "text/plain": [
       "38400000.0"
      ]
     },
     "execution_count": 11,
     "metadata": {},
     "output_type": "execute_result"
    },
    {
     "data": {
      "text/plain": [
       "38016000.0"
      ]
     },
     "execution_count": 11,
     "metadata": {},
     "output_type": "execute_result"
    },
    {
     "data": {
      "text/plain": [
       "37120000.0"
      ]
     },
     "execution_count": 11,
     "metadata": {},
     "output_type": "execute_result"
    },
    {
     "data": {
      "text/plain": [
       "35712000.0"
      ]
     },
     "execution_count": 11,
     "metadata": {},
     "output_type": "execute_result"
    },
    {
     "data": {
      "text/plain": [
       "33792000.0"
      ]
     },
     "execution_count": 11,
     "metadata": {},
     "output_type": "execute_result"
    },
    {
     "data": {
      "text/plain": [
       "31360000.0"
      ]
     },
     "execution_count": 11,
     "metadata": {},
     "output_type": "execute_result"
    },
    {
     "data": {
      "text/plain": [
       "28416000.0"
      ]
     },
     "execution_count": 11,
     "metadata": {},
     "output_type": "execute_result"
    },
    {
     "data": {
      "text/plain": [
       "24960000.0"
      ]
     },
     "execution_count": 11,
     "metadata": {},
     "output_type": "execute_result"
    },
    {
     "data": {
      "text/plain": [
       "20992000.0"
      ]
     },
     "execution_count": 11,
     "metadata": {},
     "output_type": "execute_result"
    },
    {
     "data": {
      "text/plain": [
       "16512000.0"
      ]
     },
     "execution_count": 11,
     "metadata": {},
     "output_type": "execute_result"
    }
   ],
   "source": [
    "for p in price_grid:\n",
    "    profit_response(np.repeat(p, T)) "
   ]
  },
  {
   "cell_type": "code",
   "execution_count": 12,
   "metadata": {},
   "outputs": [
    {
     "data": {
      "text/plain": [
       "array([2000, 2200, 2400, 2600, 2800, 3000, 3200, 3400, 3600, 3800, 4000,\n",
       "       4200, 4400])"
      ]
     },
     "execution_count": 12,
     "metadata": {},
     "output_type": "execute_result"
    }
   ],
   "source": [
    "price_grid"
   ]
  },
  {
   "cell_type": "code",
   "execution_count": 11,
   "metadata": {},
   "outputs": [
    {
     "ename": "ValueError",
     "evalue": "math domain error",
     "output_type": "error",
     "traceback": [
      "\u001b[0;31m---------------------------------------------------------------------------\u001b[0m",
      "\u001b[0;31mValueError\u001b[0m                                Traceback (most recent call last)",
      "\u001b[0;32m/var/folders/c9/zr1l2d4j6x5b38k84ntcbzy80000gn/T/ipykernel_88159/3697580516.py\u001b[0m in \u001b[0;36m<module>\u001b[0;34m\u001b[0m\n\u001b[1;32m     41\u001b[0m \u001b[0;32mfor\u001b[0m \u001b[0mi\u001b[0m \u001b[0;32min\u001b[0m \u001b[0mrange\u001b[0m\u001b[0;34m(\u001b[0m\u001b[0mlen\u001b[0m\u001b[0;34m(\u001b[0m\u001b[0mprice_grid\u001b[0m\u001b[0;34m)\u001b[0m\u001b[0;34m)\u001b[0m\u001b[0;34m:\u001b[0m\u001b[0;34m\u001b[0m\u001b[0;34m\u001b[0m\u001b[0m\n\u001b[1;32m     42\u001b[0m     \u001b[0;32mfor\u001b[0m \u001b[0mj\u001b[0m \u001b[0;32min\u001b[0m \u001b[0mrange\u001b[0m\u001b[0;34m(\u001b[0m\u001b[0mlen\u001b[0m\u001b[0;34m(\u001b[0m\u001b[0mprice_change_grid\u001b[0m\u001b[0;34m)\u001b[0m\u001b[0;34m)\u001b[0m\u001b[0;34m:\u001b[0m\u001b[0;34m\u001b[0m\u001b[0;34m\u001b[0m\u001b[0m\n\u001b[0;32m---> 43\u001b[0;31m         \u001b[0mprofit_map\u001b[0m\u001b[0;34m[\u001b[0m\u001b[0mi\u001b[0m\u001b[0;34m,\u001b[0m\u001b[0mj\u001b[0m\u001b[0;34m]\u001b[0m \u001b[0;34m=\u001b[0m \u001b[0mprofit_t_response\u001b[0m\u001b[0;34m(\u001b[0m\u001b[0mprice_grid\u001b[0m\u001b[0;34m[\u001b[0m\u001b[0mi\u001b[0m\u001b[0;34m]\u001b[0m\u001b[0;34m,\u001b[0m \u001b[0mprice_grid\u001b[0m\u001b[0;34m[\u001b[0m\u001b[0mi\u001b[0m\u001b[0;34m]\u001b[0m\u001b[0;34m*\u001b[0m\u001b[0mprice_change_grid\u001b[0m\u001b[0;34m[\u001b[0m\u001b[0mj\u001b[0m\u001b[0;34m]\u001b[0m\u001b[0;34m)\u001b[0m \u001b[0;31m#(t시간에 가격, 가격변화량)\u001b[0m\u001b[0;34m\u001b[0m\u001b[0;34m\u001b[0m\u001b[0m\n\u001b[0m\u001b[1;32m     44\u001b[0m \u001b[0;31m## 즉, 위의 반복문으로 profti_map 매트릭스에는 행에 가격, 열에 변화량을 축으로 밸류값으로는 수요 * 순이익이 들어감\u001b[0m\u001b[0;34m\u001b[0m\u001b[0;34m\u001b[0m\u001b[0;34m\u001b[0m\u001b[0m\n\u001b[1;32m     45\u001b[0m \u001b[0;34m\u001b[0m\u001b[0m\n",
      "\u001b[0;32m/var/folders/c9/zr1l2d4j6x5b38k84ntcbzy80000gn/T/ipykernel_88159/3697580516.py\u001b[0m in \u001b[0;36mprofit_t_response\u001b[0;34m(p_t, p_t_1)\u001b[0m\n\u001b[1;32m     29\u001b[0m \u001b[0;31m## Partial bindings for readability\u001b[0m\u001b[0;34m\u001b[0m\u001b[0;34m\u001b[0m\u001b[0;34m\u001b[0m\u001b[0m\n\u001b[1;32m     30\u001b[0m \u001b[0;32mdef\u001b[0m \u001b[0mprofit_t_response\u001b[0m\u001b[0;34m(\u001b[0m\u001b[0mp_t\u001b[0m\u001b[0;34m,\u001b[0m \u001b[0mp_t_1\u001b[0m\u001b[0;34m)\u001b[0m\u001b[0;34m:\u001b[0m\u001b[0;34m\u001b[0m\u001b[0;34m\u001b[0m\u001b[0m\n\u001b[0;32m---> 31\u001b[0;31m     \u001b[0;32mreturn\u001b[0m \u001b[0mprofit_t\u001b[0m\u001b[0;34m(\u001b[0m\u001b[0mp_t\u001b[0m\u001b[0;34m,\u001b[0m \u001b[0mp_t_1\u001b[0m\u001b[0;34m,\u001b[0m \u001b[0mq_0\u001b[0m\u001b[0;34m,\u001b[0m \u001b[0mk\u001b[0m\u001b[0;34m,\u001b[0m \u001b[0ma_q\u001b[0m\u001b[0;34m,\u001b[0m \u001b[0mb_q\u001b[0m\u001b[0;34m,\u001b[0m \u001b[0munit_cost\u001b[0m\u001b[0;34m,\u001b[0m \u001b[0;36m0\u001b[0m\u001b[0;34m)\u001b[0m \u001b[0;31m#택배 도메인에 맞춰서 들어가야 하는 상수.\u001b[0m\u001b[0;34m\u001b[0m\u001b[0;34m\u001b[0m\u001b[0m\n\u001b[0m\u001b[1;32m     32\u001b[0m \u001b[0;34m\u001b[0m\u001b[0m\n\u001b[1;32m     33\u001b[0m \u001b[0;32mdef\u001b[0m \u001b[0mprofit_response\u001b[0m\u001b[0;34m(\u001b[0m\u001b[0mp\u001b[0m\u001b[0;34m)\u001b[0m\u001b[0;34m:\u001b[0m\u001b[0;34m\u001b[0m\u001b[0;34m\u001b[0m\u001b[0m\n",
      "\u001b[0;32m/var/folders/c9/zr1l2d4j6x5b38k84ntcbzy80000gn/T/ipykernel_88159/3697580516.py\u001b[0m in \u001b[0;36mprofit_t\u001b[0;34m(p_t, p_t_1, q_0, k, a, b, unit_cost, q_setting)\u001b[0m\n\u001b[1;32m     13\u001b[0m \u001b[0;31m# Profit at time step t\u001b[0m\u001b[0;34m\u001b[0m\u001b[0;34m\u001b[0m\u001b[0;34m\u001b[0m\u001b[0m\n\u001b[1;32m     14\u001b[0m \u001b[0;32mdef\u001b[0m \u001b[0mprofit_t\u001b[0m\u001b[0;34m(\u001b[0m\u001b[0mp_t\u001b[0m\u001b[0;34m,\u001b[0m \u001b[0mp_t_1\u001b[0m\u001b[0;34m,\u001b[0m \u001b[0mq_0\u001b[0m\u001b[0;34m,\u001b[0m \u001b[0mk\u001b[0m\u001b[0;34m,\u001b[0m \u001b[0ma\u001b[0m\u001b[0;34m,\u001b[0m \u001b[0mb\u001b[0m\u001b[0;34m,\u001b[0m \u001b[0munit_cost\u001b[0m\u001b[0;34m,\u001b[0m \u001b[0mq_setting\u001b[0m\u001b[0;34m)\u001b[0m\u001b[0;34m:\u001b[0m\u001b[0;34m\u001b[0m\u001b[0;34m\u001b[0m\u001b[0m\n\u001b[0;32m---> 15\u001b[0;31m     \u001b[0;32mreturn\u001b[0m \u001b[0mq_t\u001b[0m\u001b[0;34m(\u001b[0m\u001b[0mp_t\u001b[0m\u001b[0;34m,\u001b[0m \u001b[0mp_t_1\u001b[0m\u001b[0;34m,\u001b[0m \u001b[0mq_0\u001b[0m\u001b[0;34m,\u001b[0m \u001b[0mk\u001b[0m\u001b[0;34m,\u001b[0m \u001b[0ma\u001b[0m\u001b[0;34m,\u001b[0m \u001b[0mb\u001b[0m\u001b[0;34m,\u001b[0m \u001b[0mq_setting\u001b[0m\u001b[0;34m)\u001b[0m\u001b[0;34m*\u001b[0m\u001b[0;34m(\u001b[0m\u001b[0mp_t\u001b[0m \u001b[0;34m-\u001b[0m \u001b[0munit_cost\u001b[0m\u001b[0;34m)\u001b[0m \u001b[0;31m#q_t(,,,) 이거는 demand임. #(p_t - unit_cost)는 순이익임(가격-유닛당 비용) 즉, 리턴값(profit) = 수요 * 순이익\u001b[0m\u001b[0;34m\u001b[0m\u001b[0;34m\u001b[0m\u001b[0m\n\u001b[0m\u001b[1;32m     16\u001b[0m \u001b[0;31m# Total profit for price vector p over len(p) time steps\u001b[0m\u001b[0;34m\u001b[0m\u001b[0;34m\u001b[0m\u001b[0;34m\u001b[0m\u001b[0m\n\u001b[1;32m     17\u001b[0m \u001b[0;32mdef\u001b[0m \u001b[0mprofit_total\u001b[0m\u001b[0;34m(\u001b[0m\u001b[0mp\u001b[0m\u001b[0;34m,\u001b[0m \u001b[0munit_cost\u001b[0m\u001b[0;34m,\u001b[0m \u001b[0mq_0\u001b[0m\u001b[0;34m,\u001b[0m \u001b[0mk\u001b[0m\u001b[0;34m,\u001b[0m \u001b[0ma\u001b[0m\u001b[0;34m,\u001b[0m \u001b[0mb\u001b[0m\u001b[0;34m)\u001b[0m\u001b[0;34m:\u001b[0m\u001b[0;34m\u001b[0m\u001b[0;34m\u001b[0m\u001b[0m\n",
      "\u001b[0;32m/var/folders/c9/zr1l2d4j6x5b38k84ntcbzy80000gn/T/ipykernel_88159/3697580516.py\u001b[0m in \u001b[0;36mq_t\u001b[0;34m(p_t, p_t_1, q_0, k, a, b, q_setting)\u001b[0m\n\u001b[1;32m     10\u001b[0m \u001b[0;31m# Demand at time step t for current price p_t and previous price p_t_1\u001b[0m\u001b[0;34m\u001b[0m\u001b[0;34m\u001b[0m\u001b[0;34m\u001b[0m\u001b[0m\n\u001b[1;32m     11\u001b[0m \u001b[0;32mdef\u001b[0m \u001b[0mq_t\u001b[0m\u001b[0;34m(\u001b[0m\u001b[0mp_t\u001b[0m\u001b[0;34m,\u001b[0m \u001b[0mp_t_1\u001b[0m\u001b[0;34m,\u001b[0m \u001b[0mq_0\u001b[0m\u001b[0;34m,\u001b[0m \u001b[0mk\u001b[0m\u001b[0;34m,\u001b[0m \u001b[0ma\u001b[0m\u001b[0;34m,\u001b[0m \u001b[0mb\u001b[0m\u001b[0;34m,\u001b[0m \u001b[0mq_setting\u001b[0m\u001b[0;34m)\u001b[0m\u001b[0;34m:\u001b[0m\u001b[0;34m\u001b[0m\u001b[0;34m\u001b[0m\u001b[0m\n\u001b[0;32m---> 12\u001b[0;31m     \u001b[0;32mreturn\u001b[0m \u001b[0mplus\u001b[0m\u001b[0;34m(\u001b[0m\u001b[0mq_0\u001b[0m\u001b[0;34m[\u001b[0m\u001b[0mq_setting\u001b[0m\u001b[0;34m]\u001b[0m \u001b[0;34m-\u001b[0m \u001b[0mk\u001b[0m\u001b[0;34m*\u001b[0m\u001b[0mp_t\u001b[0m \u001b[0;34m-\u001b[0m \u001b[0ma\u001b[0m\u001b[0;34m*\u001b[0m\u001b[0mshock\u001b[0m\u001b[0;34m(\u001b[0m\u001b[0mplus\u001b[0m\u001b[0;34m(\u001b[0m\u001b[0mp_t\u001b[0m \u001b[0;34m-\u001b[0m \u001b[0mp_t_1\u001b[0m\u001b[0;34m)\u001b[0m\u001b[0;34m)\u001b[0m \u001b[0;34m+\u001b[0m \u001b[0mb\u001b[0m\u001b[0;34m*\u001b[0m\u001b[0mshock\u001b[0m\u001b[0;34m(\u001b[0m\u001b[0mminus\u001b[0m\u001b[0;34m(\u001b[0m\u001b[0mp_t\u001b[0m \u001b[0;34m-\u001b[0m \u001b[0mp_t_1\u001b[0m\u001b[0;34m)\u001b[0m\u001b[0;34m)\u001b[0m\u001b[0;34m)\u001b[0m \u001b[0;31m#웹페이지에서 봤던 수요함수임(d(t,j))\u001b[0m\u001b[0;34m\u001b[0m\u001b[0;34m\u001b[0m\u001b[0m\n\u001b[0m\u001b[1;32m     13\u001b[0m \u001b[0;31m# Profit at time step t\u001b[0m\u001b[0;34m\u001b[0m\u001b[0;34m\u001b[0m\u001b[0;34m\u001b[0m\u001b[0m\n\u001b[1;32m     14\u001b[0m \u001b[0;32mdef\u001b[0m \u001b[0mprofit_t\u001b[0m\u001b[0;34m(\u001b[0m\u001b[0mp_t\u001b[0m\u001b[0;34m,\u001b[0m \u001b[0mp_t_1\u001b[0m\u001b[0;34m,\u001b[0m \u001b[0mq_0\u001b[0m\u001b[0;34m,\u001b[0m \u001b[0mk\u001b[0m\u001b[0;34m,\u001b[0m \u001b[0ma\u001b[0m\u001b[0;34m,\u001b[0m \u001b[0mb\u001b[0m\u001b[0;34m,\u001b[0m \u001b[0munit_cost\u001b[0m\u001b[0;34m,\u001b[0m \u001b[0mq_setting\u001b[0m\u001b[0;34m)\u001b[0m\u001b[0;34m:\u001b[0m\u001b[0;34m\u001b[0m\u001b[0;34m\u001b[0m\u001b[0m\n",
      "\u001b[0;32m/var/folders/c9/zr1l2d4j6x5b38k84ntcbzy80000gn/T/ipykernel_88159/3697580516.py\u001b[0m in \u001b[0;36mshock\u001b[0;34m(x)\u001b[0m\n\u001b[1;32m      5\u001b[0m     \u001b[0;32mreturn\u001b[0m \u001b[0;36m0\u001b[0m \u001b[0;32mif\u001b[0m \u001b[0mx\u001b[0m \u001b[0;34m>\u001b[0m \u001b[0;36m0\u001b[0m \u001b[0;32melse\u001b[0m \u001b[0;34m-\u001b[0m\u001b[0mx\u001b[0m\u001b[0;34m\u001b[0m\u001b[0;34m\u001b[0m\u001b[0m\n\u001b[1;32m      6\u001b[0m \u001b[0;32mdef\u001b[0m \u001b[0mshock\u001b[0m\u001b[0;34m(\u001b[0m\u001b[0mx\u001b[0m\u001b[0;34m)\u001b[0m\u001b[0;34m:\u001b[0m \u001b[0;31m#웹페이지에서 봤던 충격함수.(충격함수는 가격 변화에 따른 수요영향력)\u001b[0m\u001b[0;34m\u001b[0m\u001b[0;34m\u001b[0m\u001b[0m\n\u001b[0;32m----> 7\u001b[0;31m     \u001b[0my\u001b[0m\u001b[0;34m=\u001b[0m\u001b[0mmath\u001b[0m\u001b[0;34m.\u001b[0m\u001b[0msqrt\u001b[0m\u001b[0;34m(\u001b[0m\u001b[0;34m-\u001b[0m\u001b[0;36m0.07334551044115296\u001b[0m\u001b[0;34m*\u001b[0m\u001b[0mx\u001b[0m\u001b[0;34m+\u001b[0m\u001b[0;36m4.336372642966939\u001b[0m\u001b[0;34m)\u001b[0m\u001b[0;34m\u001b[0m\u001b[0;34m\u001b[0m\u001b[0m\n\u001b[0m\u001b[1;32m      8\u001b[0m     \u001b[0my_2\u001b[0m \u001b[0;34m=\u001b[0m \u001b[0my\u001b[0m \u001b[0;34m/\u001b[0m \u001b[0;36m120\u001b[0m\u001b[0;34m\u001b[0m\u001b[0;34m\u001b[0m\u001b[0m\n\u001b[1;32m      9\u001b[0m     \u001b[0;32mreturn\u001b[0m \u001b[0my_2\u001b[0m\u001b[0;34m\u001b[0m\u001b[0;34m\u001b[0m\u001b[0m\n",
      "\u001b[0;31mValueError\u001b[0m: math domain error"
     ]
    }
   ],
   "source": [
    "## Environment simulator\n",
    "def plus(x):\n",
    "    return 0 if x < 0 else x\n",
    "def minus(x):\n",
    "    return 0 if x > 0 else -x\n",
    "def shock(x): #웹페이지에서 봤던 충격함수.(충격함수는 가격 변화에 따른 수요영향력)\n",
    "    y= math.sqrt(-0.07334551044115296*x+4.336372642966939)\n",
    "    y_2 = y / 120\n",
    "    return y_2 \n",
    "# Demand at time step t for current price p_t and previous price p_t_1\n",
    "def q_t(p_t, p_t_1, q_0, k, a, b, q_setting):\n",
    "    return plus(q_0[q_setting] - k*p_t - a*shock(plus(p_t - p_t_1)) + b*shock(minus(p_t - p_t_1))) #웹페이지에서 봤던 수요함수임(d(t,j))\n",
    "# Profit at time step t\n",
    "def profit_t(p_t, p_t_1, q_0, k, a, b, unit_cost, q_setting):\n",
    "    return q_t(p_t, p_t_1, q_0, k, a, b, q_setting)*(p_t - unit_cost) #q_t(,,,) 이거는 demand임. #(p_t - unit_cost)는 순이익임(가격-유닛당 비용) 즉, 리턴값(profit) = 수요 * 순이익\n",
    "# Total profit for price vector p over len(p) time steps\n",
    "def profit_total(p, unit_cost, q_0, k, a, b):\n",
    "    # 여기 0넣으면 안될듯 아마\n",
    "    return profit_t(p[0], p[0], q_0, k, 0, 0, unit_cost, 0) + sum(map(lambda t: profit_t(p[t], p[t-1], q_0, k, a, b, unit_cost, t), range(len(p))))\n",
    "## Environment parameters\n",
    "T = 7\n",
    "price_max = 4000\n",
    "price_step = 200\n",
    "q_0 = [ 8536, 11912, 13756, 10330, 12929, 5512, 6538 ] \n",
    "k = 0.4\n",
    "unit_cost = 100\n",
    "a_q = 1\n",
    "b_q = 30\n",
    "## Partial bindings for readability\n",
    "def profit_t_response(p_t, p_t_1):\n",
    "    return profit_t(p_t, p_t_1, q_0, k, a_q, b_q, unit_cost, 0) #택배 도메인에 맞춰서 들어가야 하는 상수.\n",
    "\n",
    "def profit_response(p):\n",
    "    return profit_total(p, unit_cost, q_0, k, a_q, b_q)\n",
    "\n",
    "## Visualize price-demand functions\n",
    "price_grid = np.arange(price_step, price_max, price_step) ## price_step: 최소가격, 뒤 price_step: 가격 간격\n",
    "price_change_grid = np.arange(0.5, 2.0, 0.1) ## [0.5, 0.6, 0.7 ,,, 1.9]\n",
    "profit_map = np.zeros( (len(price_grid), len(price_change_grid)) ) #행 : price_gird 개수, 열 : price_change_grid 개수\n",
    "\n",
    "for i in range(len(price_grid)):\n",
    "    for j in range(len(price_change_grid)):\n",
    "        profit_map[i,j] = profit_t_response(price_grid[i], price_grid[i]*price_change_grid[j]) #(t시간에 가격, 가격변화량)\n",
    "## 즉, 위의 반복문으로 profti_map 매트릭스에는 행에 가격, 열에 변화량을 축으로 밸류값으로는 수요 * 순이익이 들어감\n",
    "\n",
    "plt.figure(figsize=(16, 5))\n",
    "for i in range(len(price_change_grid)):\n",
    "    if math.isclose(price_change_grid[i], 1.0):\n",
    "        color = 'black'\n",
    "    else:\n",
    "        p_norm = (price_change_grid[i]-0.5)/1.5\n",
    "        color = (p_norm, 0.4, 1 - p_norm)\n",
    "    plt.plot(price_grid, profit_map[:, i], c=color)\n",
    "    \n",
    "plt.xlabel(\"fee of one box\")\n",
    "plt.ylabel(\"Profit\")\n",
    "plt.legend(np.int_(np.round((1-price_change_grid)*100)), loc='lower right', title=\"Price change (%)\", fancybox=False, framealpha=0.6) # 1-price_change_grid)*100) 여기서 price change gird가 1.9이면 -90이 되는 것."
   ]
  },
  {
   "cell_type": "code",
   "execution_count": null,
   "metadata": {},
   "outputs": [],
   "source": []
  }
 ],
 "metadata": {
  "interpreter": {
   "hash": "097f6b8f18ded6711e369c2794904cde9aa4c0d82a5e4c0399b64abd670072cc"
  },
  "kernelspec": {
   "display_name": "Python 3.8.12 64-bit ('base': conda)",
   "name": "python3"
  },
  "language_info": {
   "codemirror_mode": {
    "name": "ipython",
    "version": 3
   },
   "file_extension": ".py",
   "mimetype": "text/x-python",
   "name": "python",
   "nbconvert_exporter": "python",
   "pygments_lexer": "ipython3",
   "version": "3.8.12"
  },
  "orig_nbformat": 4
 },
 "nbformat": 4,
 "nbformat_minor": 2
}
