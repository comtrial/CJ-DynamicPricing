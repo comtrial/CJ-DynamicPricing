{
 "cells": [
  {
   "cell_type": "code",
   "execution_count": null,
   "metadata": {},
   "outputs": [],
   "source": [
    "import math \n",
    "import numpy as np\n",
    "import matplotlib.pyplot as plt\n",
    "import seaborn as sns\n",
    "plt.style.use('seaborn-white')\n",
    "import pandas as pd\n",
    "from matplotlib import animation, rc\n",
    "plt.rcParams.update({'pdf.fonttype': 'truetype'})\n",
    "%matplotlib inline\n",
    "from qbstyles import mpl_style\n",
    "mpl_style(dark=False)\n",
    "\n",
    "from IPython.core.interactiveshell import InteractiveShell\n",
    "InteractiveShell.ast_node_interactivity = \"all\""
   ]
  },
  {
   "cell_type": "code",
   "execution_count": 1,
   "metadata": {},
   "outputs": [],
   "source": [
    "\n",
    "## Environment simulator\n",
    "def plus(x):\n",
    "    return 0 if x < 0 else x\n",
    "\n",
    "def minus(x):\n",
    "    return 0 if x > 0 else -x\n",
    "\n",
    "def shock(x):\n",
    "    return np.sqrt(x)\n",
    "\n",
    "# Demand at time step t for current price p_t and previous price p_t_1\n",
    "def q_t(p_t, p_t_1, q_0, k, a, b):\n",
    "    return plus(q_0 - k*p_t - a*shock(plus(p_t - p_t_1)) + b*shock(minus(p_t - p_t_1)))\n",
    "\n",
    "# Profit at time step t\n",
    "def profit_t(p_t, p_t_1, q_0, k, a, b, unit_cost):\n",
    "    return q_t(p_t, p_t_1, q_0, k, a, b)*(p_t - unit_cost) \n",
    "\n",
    "# Total profit for price vector p over len(p) time steps\n",
    "def profit_total(p, unit_cost, q_0, k, a, b):\n",
    "    return profit_t(p[0], p[0], q_0, k, 0, 0, unit_cost) + sum(map(lambda t: profit_t(p[t], p[t-1], q_0, k, a, b, unit_cost), range(len(p))))\n",
    "\n",
    "## Environment parameters\n",
    "T = 20\n",
    "price_max = 500\n",
    "price_step = 10\n",
    "q_0 = 5000\n",
    "k = 20\n",
    "unit_cost = 100\n",
    "a_q = 300\n",
    "b_q = 100\n",
    "\n",
    "## Partial bindings for readability\n",
    "def profit_t_response(p_t, p_t_1):\n",
    "    return profit_t(p_t, p_t_1, q_0, k, a_q, b_q, unit_cost)\n",
    "\n",
    "def profit_response(p):\n",
    "    return profit_total(p, unit_cost, q_0, k, a_q, b_q)\n"
   ]
  },
  {
   "cell_type": "code",
   "execution_count": 3,
   "metadata": {},
   "outputs": [
    {
     "ename": "NameError",
     "evalue": "name 'np' is not defined",
     "output_type": "error",
     "traceback": [
      "\u001b[0;31m---------------------------------------------------------------------------\u001b[0m",
      "\u001b[0;31mNameError\u001b[0m                                 Traceback (most recent call last)",
      "\u001b[0;32m/var/folders/c9/zr1l2d4j6x5b38k84ntcbzy80000gn/T/ipykernel_36151/4116707344.py\u001b[0m in \u001b[0;36m<module>\u001b[0;34m\u001b[0m\n\u001b[1;32m      1\u001b[0m \u001b[0;31m## Visualize price-demand functions\u001b[0m\u001b[0;34m\u001b[0m\u001b[0;34m\u001b[0m\u001b[0;34m\u001b[0m\u001b[0m\n\u001b[0;32m----> 2\u001b[0;31m \u001b[0mprice_grid\u001b[0m \u001b[0;34m=\u001b[0m \u001b[0mnp\u001b[0m\u001b[0;34m.\u001b[0m\u001b[0marange\u001b[0m\u001b[0;34m(\u001b[0m\u001b[0mprice_step\u001b[0m\u001b[0;34m,\u001b[0m \u001b[0mprice_max\u001b[0m\u001b[0;34m,\u001b[0m \u001b[0mprice_step\u001b[0m\u001b[0;34m)\u001b[0m\u001b[0;34m\u001b[0m\u001b[0;34m\u001b[0m\u001b[0m\n\u001b[0m\u001b[1;32m      3\u001b[0m \u001b[0mprice_change_grid\u001b[0m \u001b[0;34m=\u001b[0m \u001b[0mnp\u001b[0m\u001b[0;34m.\u001b[0m\u001b[0marange\u001b[0m\u001b[0;34m(\u001b[0m\u001b[0;36m0.5\u001b[0m\u001b[0;34m,\u001b[0m \u001b[0;36m2.0\u001b[0m\u001b[0;34m,\u001b[0m \u001b[0;36m0.1\u001b[0m\u001b[0;34m)\u001b[0m\u001b[0;34m\u001b[0m\u001b[0;34m\u001b[0m\u001b[0m\n\u001b[1;32m      4\u001b[0m \u001b[0mprofit_map\u001b[0m \u001b[0;34m=\u001b[0m \u001b[0mnp\u001b[0m\u001b[0;34m.\u001b[0m\u001b[0mzeros\u001b[0m\u001b[0;34m(\u001b[0m \u001b[0;34m(\u001b[0m\u001b[0mlen\u001b[0m\u001b[0;34m(\u001b[0m\u001b[0mprice_grid\u001b[0m\u001b[0;34m)\u001b[0m\u001b[0;34m,\u001b[0m \u001b[0mlen\u001b[0m\u001b[0;34m(\u001b[0m\u001b[0mprice_change_grid\u001b[0m\u001b[0;34m)\u001b[0m\u001b[0;34m)\u001b[0m \u001b[0;34m)\u001b[0m\u001b[0;34m\u001b[0m\u001b[0;34m\u001b[0m\u001b[0m\n\u001b[1;32m      5\u001b[0m \u001b[0;32mfor\u001b[0m \u001b[0mi\u001b[0m \u001b[0;32min\u001b[0m \u001b[0mrange\u001b[0m\u001b[0;34m(\u001b[0m\u001b[0mlen\u001b[0m\u001b[0;34m(\u001b[0m\u001b[0mprice_grid\u001b[0m\u001b[0;34m)\u001b[0m\u001b[0;34m)\u001b[0m\u001b[0;34m:\u001b[0m\u001b[0;34m\u001b[0m\u001b[0;34m\u001b[0m\u001b[0m\n",
      "\u001b[0;31mNameError\u001b[0m: name 'np' is not defined"
     ]
    }
   ],
   "source": [
    "\n",
    "## Visualize price-demand functions\n",
    "price_grid = np.arange(price_step, price_max, price_step)\n",
    "price_change_grid = np.arange(0.5, 2.0, 0.1)\n",
    "profit_map = np.zeros( (len(price_grid), len(price_change_grid)) )\n",
    "for i in range(len(price_grid)):\n",
    "    for j in range(len(price_change_grid)):\n",
    "        profit_map[i,j] = profit_t_response(price_grid[i], price_grid[i]*price_change_grid[j])\n",
    "\n",
    "plt.figure(figsize=(16, 5))\n",
    "for i in range(len(price_change_grid)):\n",
    "    if math.isclose(price_change_grid[i], 1.0):\n",
    "        color = 'black'\n",
    "    else:\n",
    "        p_norm = (price_change_grid[i]-0.5)/1.5\n",
    "        color = (p_norm, 0.4, 1 - p_norm)\n",
    "    plt.plot(price_grid, profit_map[:, i], c=color)\n",
    "plt.xlabel(\"Price ($)\")\n",
    "plt.ylabel(\"Profit\")\n",
    "plt.legend(np.int_(np.round((1-price_change_grid)*100)), loc='lower right', title=\"Price change (%)\", fancybox=False, framealpha=0.6)\n",
    "plt.grid(True)"
   ]
  },
  {
   "cell_type": "code",
   "execution_count": 3,
   "metadata": {},
   "outputs": [
    {
     "ename": "NameError",
     "evalue": "name 'profit_map' is not defined",
     "output_type": "error",
     "traceback": [
      "\u001b[0;31m---------------------------------------------------------------------------\u001b[0m",
      "\u001b[0;31mNameError\u001b[0m                                 Traceback (most recent call last)",
      "\u001b[0;32m/var/folders/c9/zr1l2d4j6x5b38k84ntcbzy80000gn/T/ipykernel_35958/3233946806.py\u001b[0m in \u001b[0;36m<module>\u001b[0;34m\u001b[0m\n\u001b[0;32m----> 1\u001b[0;31m \u001b[0mprofit_map\u001b[0m\u001b[0;34m[\u001b[0m\u001b[0;34m:\u001b[0m\u001b[0;34m,\u001b[0m \u001b[0;36m5\u001b[0m\u001b[0;34m]\u001b[0m\u001b[0;34m.\u001b[0m\u001b[0mmax\u001b[0m\u001b[0;34m(\u001b[0m\u001b[0;34m)\u001b[0m\u001b[0;34m*\u001b[0m\u001b[0;36m20\u001b[0m\u001b[0;34m\u001b[0m\u001b[0;34m\u001b[0m\u001b[0m\n\u001b[0m",
      "\u001b[0;31mNameError\u001b[0m: name 'profit_map' is not defined"
     ]
    }
   ],
   "source": [
    "\n",
    "profit_map[:, 5].max()*20"
   ]
  },
  {
   "cell_type": "code",
   "execution_count": 4,
   "metadata": {},
   "outputs": [
    {
     "ename": "NameError",
     "evalue": "name 'plt' is not defined",
     "output_type": "error",
     "traceback": [
      "\u001b[0;31m---------------------------------------------------------------------------\u001b[0m",
      "\u001b[0;31mNameError\u001b[0m                                 Traceback (most recent call last)",
      "\u001b[0;32m/var/folders/c9/zr1l2d4j6x5b38k84ntcbzy80000gn/T/ipykernel_35958/673419033.py\u001b[0m in \u001b[0;36m<module>\u001b[0;34m\u001b[0m\n\u001b[0;32m----> 1\u001b[0;31m \u001b[0mplt\u001b[0m\u001b[0;34m.\u001b[0m\u001b[0mplot\u001b[0m\u001b[0;34m(\u001b[0m\u001b[0;34m[\u001b[0m\u001b[0;36m1\u001b[0m\u001b[0;34m,\u001b[0m\u001b[0;36m2\u001b[0m\u001b[0;34m,\u001b[0m\u001b[0;36m3\u001b[0m\u001b[0;34m]\u001b[0m\u001b[0;34m)\u001b[0m\u001b[0;34m\u001b[0m\u001b[0;34m\u001b[0m\u001b[0m\n\u001b[0m",
      "\u001b[0;31mNameError\u001b[0m: name 'plt' is not defined"
     ]
    }
   ],
   "source": [
    "plt.plot([1,2,3])"
   ]
  },
  {
   "cell_type": "markdown",
   "metadata": {},
   "source": []
  },
  {
   "cell_type": "code",
   "execution_count": 1,
   "metadata": {},
   "outputs": [
    {
     "name": "stdout",
     "output_type": "stream",
     "text": [
      "sdrg\n"
     ]
    }
   ],
   "source": [
    "print('sdrg')"
   ]
  },
  {
   "cell_type": "code",
   "execution_count": 2,
   "metadata": {},
   "outputs": [
    {
     "name": "stdout",
     "output_type": "stream",
     "text": [
      "sdrg\n"
     ]
    }
   ],
   "source": [
    "!"
   ]
  },
  {
   "cell_type": "code",
   "execution_count": null,
   "metadata": {},
   "outputs": [],
   "source": []
  }
 ],
 "metadata": {
  "interpreter": {
   "hash": "c5a69d1f428deab209c33dbed19d834a07cc1a1636bf5a4882e50967e2108f6e"
  },
  "kernelspec": {
   "display_name": "Python 3 (ipykernel)",
   "language": "python",
   "name": "python3"
  },
  "language_info": {
   "codemirror_mode": {
    "name": "ipython",
    "version": 3
   },
   "file_extension": ".py",
   "mimetype": "text/x-python",
   "name": "python",
   "nbconvert_exporter": "python",
   "pygments_lexer": "ipython3",
   "version": "3.8.5"
  }
 },
 "nbformat": 4,
 "nbformat_minor": 2
}
