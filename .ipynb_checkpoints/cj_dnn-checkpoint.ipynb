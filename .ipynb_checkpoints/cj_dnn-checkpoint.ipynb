{
 "cells": [
  {
   "cell_type": "code",
   "execution_count": null,
   "metadata": {},
   "outputs": [],
   "source": [
    "import numpy as np\n",
    "import pandas as pd\n",
    "import csv\n",
    "import matplotlib as plot\n",
    "from IPython.core.interactiveshell import InteractiveShell\n",
    "InteractiveShell.ast_node_interactivity = \"all\"\n",
    "import matplotlib.pyplot as plt\n",
    "from matplotlib import font_manager, rc\n",
    "rc('font', family='AppleGothic')\n",
    "import matplotlib as mpl\n",
    "%matplotlib inline\n",
    "\n",
    "pd.set_option('display.max_columns', 50)\n",
    "pd.set_option('display.max_rows', 100)\n",
    "pd.options.display.float_format = '{:.4f}'.format\n",
    "    \n",
    "import glob\n",
    "\n",
    "import IPython  \n",
    "app = IPython.Application.instance()  \n",
    "app.kernel.do_shutdown(True) "
   ]
  },
  {
   "cell_type": "code",
   "execution_count": 1,
   "metadata": {},
   "outputs": [],
   "source": [
    "path3 = \"/Users/choeseung-won/Deep_Study/cj_project/2021년 미래기술 챌린지_211005/1. 이커머스 FC주문 데이터/1-1. 이커머스 FC주문 데이터_3월.csv\"\n",
    "path4 = \"/Users/choeseung-won/Deep_Study/cj_project/2021년 미래기술 챌린지_211005/1. 이커머스 FC주문 데이터/1-2. 이커머스 FC주문 데이터_4월.csv\"\n",
    "path5 = \"/Users/choeseung-won/Deep_Study/cj_project/2021년 미래기술 챌린지_211005/1. 이커머스 FC주문 데이터/1-3. 이커머스 FC주문 데이터_5월.csv\"\n",
    "path6 = \"/Users/choeseung-won/Deep_Study/cj_project/2021년 미래기술 챌린지_211005/1. 이커머스 FC주문 데이터/1-4. 이커머스 FC주문 데이터_6월.csv\""
   ]
  },
  {
   "cell_type": "code",
   "execution_count": 2,
   "metadata": {},
   "outputs": [
    {
     "ename": "NameError",
     "evalue": "name 'pd' is not defined",
     "output_type": "error",
     "traceback": [
      "\u001b[0;31m---------------------------------------------------------------------------\u001b[0m",
      "\u001b[0;31mNameError\u001b[0m                                 Traceback (most recent call last)",
      "\u001b[0;32m/var/folders/c9/zr1l2d4j6x5b38k84ntcbzy80000gn/T/ipykernel_45489/780714590.py\u001b[0m in \u001b[0;36m<module>\u001b[0;34m\u001b[0m\n\u001b[0;32m----> 1\u001b[0;31m \u001b[0mdf\u001b[0m \u001b[0;34m=\u001b[0m \u001b[0mpd\u001b[0m\u001b[0;34m.\u001b[0m\u001b[0mread_excel\u001b[0m\u001b[0;34m(\u001b[0m\u001b[0mpath3\u001b[0m\u001b[0;34m,\u001b[0m \u001b[0msheet_name\u001b[0m\u001b[0;34m=\u001b[0m\u001b[0;34m'워크시트 익스포트'\u001b[0m\u001b[0;34m)\u001b[0m\u001b[0;34m\u001b[0m\u001b[0;34m\u001b[0m\u001b[0m\n\u001b[0m",
      "\u001b[0;31mNameError\u001b[0m: name 'pd' is not defined"
     ]
    }
   ],
   "source": [
    "df = pd.read_excel(path3, sheet_name='워크시트 익스포트')"
   ]
  },
  {
   "cell_type": "code",
   "execution_count": null,
   "metadata": {},
   "outputs": [],
   "source": []
  }
 ],
 "metadata": {
  "interpreter": {
   "hash": "097f6b8f18ded6711e369c2794904cde9aa4c0d82a5e4c0399b64abd670072cc"
  },
  "kernelspec": {
   "display_name": "Python 3 (ipykernel)",
   "language": "python",
   "name": "python3"
  },
  "language_info": {
   "codemirror_mode": {
    "name": "ipython",
    "version": 3
   },
   "file_extension": ".py",
   "mimetype": "text/x-python",
   "name": "python",
   "nbconvert_exporter": "python",
   "pygments_lexer": "ipython3",
   "version": "3.8.5"
  }
 },
 "nbformat": 4,
 "nbformat_minor": 2
}
